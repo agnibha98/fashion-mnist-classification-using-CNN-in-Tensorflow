{
  "nbformat": 4,
  "nbformat_minor": 0,
  "metadata": {
    "colab": {
      "name": "CNN Fashion MNSIT.ipynb",
      "provenance": [],
      "collapsed_sections": []
    },
    "kernelspec": {
      "name": "python3",
      "display_name": "Python 3"
    },
    "accelerator": "GPU"
  },
  "cells": [
    {
      "cell_type": "code",
      "metadata": {
        "id": "a_KO1jUb5stj",
        "colab_type": "code",
        "colab": {}
      },
      "source": [
        "#the fashion dataset has 28x28 grey scale images\n",
        "import numpy as np\n",
        "import matplotlib.pyplot as plt\n",
        "from tensorflow.keras.layers import Input,Conv2D,Dense,Flatten,Dropout\n",
        "from tensorflow.keras.models import Model\n",
        "import tensorflow as tf"
      ],
      "execution_count": 0,
      "outputs": []
    },
    {
      "cell_type": "code",
      "metadata": {
        "id": "eGM8Fn4_6nFF",
        "colab_type": "code",
        "outputId": "87b51045-cf5d-4254-9312-b6d8d3012514",
        "colab": {
          "base_uri": "https://localhost:8080/",
          "height": 185
        }
      },
      "source": [
        "fashion_mnist_data=tf.keras.datasets.fashion_mnist\n",
        "(x_train,y_train),(x_test,y_test)=fashion_mnist_data.load_data()\n",
        "x_train,x_test=x_train/255.0,x_test/255.0\n",
        "print(x_train.shape)\n"
      ],
      "execution_count": 2,
      "outputs": [
        {
          "output_type": "stream",
          "text": [
            "Downloading data from https://storage.googleapis.com/tensorflow/tf-keras-datasets/train-labels-idx1-ubyte.gz\n",
            "32768/29515 [=================================] - 0s 0us/step\n",
            "Downloading data from https://storage.googleapis.com/tensorflow/tf-keras-datasets/train-images-idx3-ubyte.gz\n",
            "26427392/26421880 [==============================] - 0s 0us/step\n",
            "Downloading data from https://storage.googleapis.com/tensorflow/tf-keras-datasets/t10k-labels-idx1-ubyte.gz\n",
            "8192/5148 [===============================================] - 0s 0us/step\n",
            "Downloading data from https://storage.googleapis.com/tensorflow/tf-keras-datasets/t10k-images-idx3-ubyte.gz\n",
            "4423680/4422102 [==============================] - 0s 0us/step\n",
            "(60000, 28, 28)\n"
          ],
          "name": "stdout"
        }
      ]
    },
    {
      "cell_type": "code",
      "metadata": {
        "id": "vWgavCSN7yzZ",
        "colab_type": "code",
        "outputId": "9ef6e737-d669-47e0-e99b-80445f4d2478",
        "colab": {
          "base_uri": "https://localhost:8080/",
          "height": 54
        }
      },
      "source": [
        "#let us find out the number of classes.We can simply find the no of unique values in targets of training dataset\n",
        "K=len(set(y_train))\n",
        "print(\"Number of classes is \",K)\n",
        "x_train = np.expand_dims(x_train, -1)\n",
        "x_test = np.expand_dims(x_test, -1)\n",
        "print(x_train.shape)\n"
      ],
      "execution_count": 3,
      "outputs": [
        {
          "output_type": "stream",
          "text": [
            "Number of classes is  10\n",
            "(60000, 28, 28, 1)\n"
          ],
          "name": "stdout"
        }
      ]
    },
    {
      "cell_type": "code",
      "metadata": {
        "id": "vF8DOL_B821Q",
        "colab_type": "code",
        "colab": {}
      },
      "source": [
        "#Let us build the model\n",
        "i=Input(shape=x_train[0].shape)\n",
        "x=Conv2D(32,(3,3),strides=2,activation='relu')(i)\n",
        "x=Conv2D(64,(3,3),strides=2,activation='relu')(x)\n",
        "x=Conv2D(128,(3,3),strides=2,activation='relu')(x)\n",
        "x=Flatten()(x)\n",
        "x=Dropout(0.2)(x)\n",
        "x=Dense(512,activation='relu')(x)\n",
        "x=Dropout(0.2)(x)\n",
        "x=Dense(K,activation='softmax')(x)\n",
        "\n",
        "model=Model(i,x)\n",
        "\n"
      ],
      "execution_count": 0,
      "outputs": []
    },
    {
      "cell_type": "code",
      "metadata": {
        "id": "Xpg0kJ5c-33I",
        "colab_type": "code",
        "colab": {}
      },
      "source": [
        "model.compile(optimizer='adam',loss='sparse_categorical_crossentropy',metrics=['accuracy'])\n"
      ],
      "execution_count": 0,
      "outputs": []
    },
    {
      "cell_type": "code",
      "metadata": {
        "id": "pKRHXqYyDvte",
        "colab_type": "code",
        "outputId": "20a31f2e-9ea3-436e-e03f-a6b5434bb9f4",
        "colab": {
          "base_uri": "https://localhost:8080/",
          "height": 765
        }
      },
      "source": [
        "no_of_epochs=20\n",
        "r=model.fit(x_train,y_train,validation_data=(x_test,y_test),epochs=no_of_epochs)\n"
      ],
      "execution_count": 7,
      "outputs": [
        {
          "output_type": "stream",
          "text": [
            "Epoch 1/20\n",
            "1875/1875 [==============================] - 10s 5ms/step - loss: 0.5309 - accuracy: 0.8017 - val_loss: 0.4066 - val_accuracy: 0.8479\n",
            "Epoch 2/20\n",
            "1875/1875 [==============================] - 10s 5ms/step - loss: 0.3686 - accuracy: 0.8622 - val_loss: 0.3746 - val_accuracy: 0.8560\n",
            "Epoch 3/20\n",
            "1875/1875 [==============================] - 10s 5ms/step - loss: 0.3188 - accuracy: 0.8795 - val_loss: 0.3171 - val_accuracy: 0.8797\n",
            "Epoch 4/20\n",
            "1875/1875 [==============================] - 10s 5ms/step - loss: 0.2856 - accuracy: 0.8931 - val_loss: 0.2997 - val_accuracy: 0.8876\n",
            "Epoch 5/20\n",
            "1875/1875 [==============================] - 10s 5ms/step - loss: 0.2596 - accuracy: 0.9018 - val_loss: 0.3045 - val_accuracy: 0.8911\n",
            "Epoch 6/20\n",
            "1875/1875 [==============================] - 10s 5ms/step - loss: 0.2375 - accuracy: 0.9098 - val_loss: 0.2965 - val_accuracy: 0.8925\n",
            "Epoch 7/20\n",
            "1875/1875 [==============================] - 10s 5ms/step - loss: 0.2191 - accuracy: 0.9172 - val_loss: 0.2964 - val_accuracy: 0.9008\n",
            "Epoch 8/20\n",
            "1875/1875 [==============================] - 10s 5ms/step - loss: 0.2013 - accuracy: 0.9226 - val_loss: 0.3030 - val_accuracy: 0.8985\n",
            "Epoch 9/20\n",
            "1875/1875 [==============================] - 10s 5ms/step - loss: 0.1859 - accuracy: 0.9283 - val_loss: 0.3117 - val_accuracy: 0.8950\n",
            "Epoch 10/20\n",
            "1875/1875 [==============================] - 10s 5ms/step - loss: 0.1727 - accuracy: 0.9342 - val_loss: 0.3025 - val_accuracy: 0.9006\n",
            "Epoch 11/20\n",
            "1875/1875 [==============================] - 10s 5ms/step - loss: 0.1628 - accuracy: 0.9376 - val_loss: 0.3109 - val_accuracy: 0.8988\n",
            "Epoch 12/20\n",
            "1875/1875 [==============================] - 10s 5ms/step - loss: 0.1568 - accuracy: 0.9391 - val_loss: 0.3418 - val_accuracy: 0.8946\n",
            "Epoch 13/20\n",
            "1875/1875 [==============================] - 10s 5ms/step - loss: 0.1430 - accuracy: 0.9461 - val_loss: 0.3350 - val_accuracy: 0.8982\n",
            "Epoch 14/20\n",
            "1875/1875 [==============================] - 10s 5ms/step - loss: 0.1360 - accuracy: 0.9477 - val_loss: 0.3367 - val_accuracy: 0.9013\n",
            "Epoch 15/20\n",
            "1875/1875 [==============================] - 11s 6ms/step - loss: 0.1281 - accuracy: 0.9506 - val_loss: 0.3588 - val_accuracy: 0.9002\n",
            "Epoch 16/20\n",
            "1875/1875 [==============================] - 10s 5ms/step - loss: 0.1248 - accuracy: 0.9522 - val_loss: 0.3413 - val_accuracy: 0.9026\n",
            "Epoch 17/20\n",
            "1875/1875 [==============================] - 10s 5ms/step - loss: 0.1183 - accuracy: 0.9547 - val_loss: 0.3525 - val_accuracy: 0.8994\n",
            "Epoch 18/20\n",
            "1875/1875 [==============================] - 10s 5ms/step - loss: 0.1152 - accuracy: 0.9560 - val_loss: 0.3767 - val_accuracy: 0.8963\n",
            "Epoch 19/20\n",
            "1875/1875 [==============================] - 10s 5ms/step - loss: 0.1094 - accuracy: 0.9586 - val_loss: 0.3715 - val_accuracy: 0.8989\n",
            "Epoch 20/20\n",
            "1875/1875 [==============================] - 10s 5ms/step - loss: 0.1046 - accuracy: 0.9609 - val_loss: 0.3953 - val_accuracy: 0.8988\n"
          ],
          "name": "stdout"
        }
      ]
    },
    {
      "cell_type": "code",
      "metadata": {
        "id": "_0KcnLQ6D9tj",
        "colab_type": "code",
        "colab": {}
      },
      "source": [
        "model.evaluate(x_train,y_train)"
      ],
      "execution_count": 0,
      "outputs": []
    },
    {
      "cell_type": "code",
      "metadata": {
        "id": "VoY-jRLQIcFP",
        "colab_type": "code",
        "colab": {}
      },
      "source": [
        "model.evaluate(x_test,y_test)"
      ],
      "execution_count": 0,
      "outputs": []
    },
    {
      "cell_type": "code",
      "metadata": {
        "id": "-u4NlWPdIjm_",
        "colab_type": "code",
        "colab": {}
      },
      "source": [
        ""
      ],
      "execution_count": 0,
      "outputs": []
    }
  ]
}